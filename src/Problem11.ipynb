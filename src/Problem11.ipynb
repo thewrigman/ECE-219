{
 "cells": [
  {
   "cell_type": "code",
   "execution_count": 1,
   "metadata": {},
   "outputs": [],
   "source": [
    "\n",
    "import numpy as np\n",
    "import pandas as pd\n",
    "import sklearn\n",
    "import sklearn.model_selection\n",
    "import sklearn.svm\n",
    "import matplotlib.pyplot as plt\n",
    "import tqdm\n",
    "import itertools\n",
    "from Problem11Pipleline import *\n",
    "\n",
    "np.random.seed(42)\n"
   ]
  },
  {
   "cell_type": "code",
   "execution_count": 2,
   "metadata": {},
   "outputs": [
    {
     "data": {
      "text/html": [
       "<div>\n",
       "<style scoped>\n",
       "    .dataframe tbody tr th:only-of-type {\n",
       "        vertical-align: middle;\n",
       "    }\n",
       "\n",
       "    .dataframe tbody tr th {\n",
       "        vertical-align: top;\n",
       "    }\n",
       "\n",
       "    .dataframe thead th {\n",
       "        text-align: right;\n",
       "    }\n",
       "</style>\n",
       "<table border=\"1\" class=\"dataframe\">\n",
       "  <thead>\n",
       "    <tr style=\"text-align: right;\">\n",
       "      <th></th>\n",
       "      <th>full_text</th>\n",
       "      <th>summary</th>\n",
       "      <th>keywords</th>\n",
       "      <th>publish_date</th>\n",
       "      <th>authors</th>\n",
       "      <th>url</th>\n",
       "      <th>leaf_label</th>\n",
       "      <th>root_label</th>\n",
       "    </tr>\n",
       "  </thead>\n",
       "  <tbody>\n",
       "    <tr>\n",
       "      <th>0</th>\n",
       "      <td>'Pure Hockey, the largest hockey retailer in t...</td>\n",
       "      <td>'Pure Hockey, the largest hockey retailer in t...</td>\n",
       "      <td>['acquire', 'agrees', 'nevada', 'retail', 'hoc...</td>\n",
       "      <td>2022-10-21 17:11:22+00:00</td>\n",
       "      <td>['Ein News']</td>\n",
       "      <td>https://www.einnews.com/pr_news/597148062/pure...</td>\n",
       "      <td>hockey</td>\n",
       "      <td>sports</td>\n",
       "    </tr>\n",
       "    <tr>\n",
       "      <th>1</th>\n",
       "      <td>'HKO Hockey Canada Sponsorship 20221006\\n\\nHoc...</td>\n",
       "      <td>'The tally of Hockey Canada’s sponsorship loss...</td>\n",
       "      <td>['sexual', 'exclusive', 'settlement', 'million...</td>\n",
       "      <td>NaN</td>\n",
       "      <td>['Barbara Shecter']</td>\n",
       "      <td>https://ca.finance.yahoo.com/news/exclusive-ho...</td>\n",
       "      <td>hockey</td>\n",
       "      <td>sports</td>\n",
       "    </tr>\n",
       "    <tr>\n",
       "      <th>2</th>\n",
       "      <td>'Canadian Prime Minister Justin Trudeau said W...</td>\n",
       "      <td>'Canadian Prime Minister Justin Trudeau said W...</td>\n",
       "      <td>['québec', 'surprise', 'trust', 'sexual', 'org...</td>\n",
       "      <td>2022-10-05 00:00:00</td>\n",
       "      <td>['The Athletic Staff']</td>\n",
       "      <td>https://theathletic.com/3659888/2022/10/05/hoc...</td>\n",
       "      <td>hockey</td>\n",
       "      <td>sports</td>\n",
       "    </tr>\n",
       "    <tr>\n",
       "      <th>3</th>\n",
       "      <td>'Hockey Canada paid a crisis communications fi...</td>\n",
       "      <td>'Nicholson says that Hockey Canada did not go ...</td>\n",
       "      <td>['sexual', 'organization', 'million', 'ceo', '...</td>\n",
       "      <td>2022-11-15 00:00:00</td>\n",
       "      <td>['Dan Robson']</td>\n",
       "      <td>https://theathletic.com/3900630/2022/11/15/hoc...</td>\n",
       "      <td>hockey</td>\n",
       "      <td>sports</td>\n",
       "    </tr>\n",
       "    <tr>\n",
       "      <th>4</th>\n",
       "      <td>'The Denver Broncos are looking for a new head...</td>\n",
       "      <td>'The Denver Broncos are looking for a new head...</td>\n",
       "      <td>['beats', 'force', 'season', 'teams', 'anchora...</td>\n",
       "      <td>NaN</td>\n",
       "      <td>['Parker Seibold', 'The Gazette', 'Gazette File']</td>\n",
       "      <td>https://gazette.com/multimedia/photo-air-force...</td>\n",
       "      <td>hockey</td>\n",
       "      <td>sports</td>\n",
       "    </tr>\n",
       "  </tbody>\n",
       "</table>\n",
       "</div>"
      ],
      "text/plain": [
       "                                           full_text  \\\n",
       "0  'Pure Hockey, the largest hockey retailer in t...   \n",
       "1  'HKO Hockey Canada Sponsorship 20221006\\n\\nHoc...   \n",
       "2  'Canadian Prime Minister Justin Trudeau said W...   \n",
       "3  'Hockey Canada paid a crisis communications fi...   \n",
       "4  'The Denver Broncos are looking for a new head...   \n",
       "\n",
       "                                             summary  \\\n",
       "0  'Pure Hockey, the largest hockey retailer in t...   \n",
       "1  'The tally of Hockey Canada’s sponsorship loss...   \n",
       "2  'Canadian Prime Minister Justin Trudeau said W...   \n",
       "3  'Nicholson says that Hockey Canada did not go ...   \n",
       "4  'The Denver Broncos are looking for a new head...   \n",
       "\n",
       "                                            keywords  \\\n",
       "0  ['acquire', 'agrees', 'nevada', 'retail', 'hoc...   \n",
       "1  ['sexual', 'exclusive', 'settlement', 'million...   \n",
       "2  ['québec', 'surprise', 'trust', 'sexual', 'org...   \n",
       "3  ['sexual', 'organization', 'million', 'ceo', '...   \n",
       "4  ['beats', 'force', 'season', 'teams', 'anchora...   \n",
       "\n",
       "                publish_date  \\\n",
       "0  2022-10-21 17:11:22+00:00   \n",
       "1                        NaN   \n",
       "2        2022-10-05 00:00:00   \n",
       "3        2022-11-15 00:00:00   \n",
       "4                        NaN   \n",
       "\n",
       "                                             authors  \\\n",
       "0                                       ['Ein News']   \n",
       "1                                ['Barbara Shecter']   \n",
       "2                             ['The Athletic Staff']   \n",
       "3                                     ['Dan Robson']   \n",
       "4  ['Parker Seibold', 'The Gazette', 'Gazette File']   \n",
       "\n",
       "                                                 url leaf_label root_label  \n",
       "0  https://www.einnews.com/pr_news/597148062/pure...     hockey     sports  \n",
       "1  https://ca.finance.yahoo.com/news/exclusive-ho...     hockey     sports  \n",
       "2  https://theathletic.com/3659888/2022/10/05/hoc...     hockey     sports  \n",
       "3  https://theathletic.com/3900630/2022/11/15/hoc...     hockey     sports  \n",
       "4  https://gazette.com/multimedia/photo-air-force...     hockey     sports  "
      ]
     },
     "execution_count": 2,
     "metadata": {},
     "output_type": "execute_result"
    }
   ],
   "source": [
    "df=pd.read_csv('Project1-Classification.csv')\n",
    "df.head()"
   ]
  },
  {
   "attachments": {},
   "cell_type": "markdown",
   "metadata": {},
   "source": [
    "## Test with Stochastic Optimizer \n",
    "we try to find the optimal hyperparameters with the stochastic optimizer described in \"A consensus-based global optimization method for high dimensional machine learning problems\""
   ]
  },
  {
   "cell_type": "code",
   "execution_count": 3,
   "metadata": {},
   "outputs": [
    {
     "ename": "KeyboardInterrupt",
     "evalue": "",
     "output_type": "error",
     "traceback": [
      "\u001b[1;31m---------------------------------------------------------------------------\u001b[0m",
      "\u001b[1;31mKeyboardInterrupt\u001b[0m                         Traceback (most recent call last)",
      "Cell \u001b[1;32mIn[3], line 1\u001b[0m\n\u001b[1;32m----> 1\u001b[0m stochastic_test_accuracy,stochastic_models,stochastic_weights,embeddings\u001b[39m=\u001b[39mpipeline(df,normalize\u001b[39m=\u001b[39;49m\u001b[39m\"\u001b[39;49m\u001b[39mmean\u001b[39;49m\u001b[39m\"\u001b[39;49m,optimizer_func\u001b[39m=\u001b[39;49mstochastic_find_optimal,\n\u001b[0;32m      2\u001b[0m     optimizer_kwargs\u001b[39m=\u001b[39;49m\u001b[39mdict\u001b[39;49m(particles\u001b[39m=\u001b[39;49m\u001b[39m10\u001b[39;49m,dimensions\u001b[39m=\u001b[39;49m\u001b[39m3\u001b[39;49m,bounds\u001b[39m=\u001b[39;49m[\u001b[39m-\u001b[39;49m\u001b[39m1\u001b[39;49m,\u001b[39m1\u001b[39;49m],drift_rate\u001b[39m=\u001b[39;49m\u001b[39m0.3\u001b[39;49m,lr\u001b[39m=\u001b[39;49m\u001b[39m1\u001b[39;49m,noise_rate\u001b[39m=\u001b[39;49m\u001b[39m0.2\u001b[39;49m,beta\u001b[39m=\u001b[39;49m\u001b[39m0.9\u001b[39;49m),\n\u001b[0;32m      3\u001b[0m     epochs\u001b[39m=\u001b[39;49m\u001b[39m50\u001b[39;49m)\n",
      "File \u001b[1;32mc:\\Users\\Lawrence\\Desktop\\UCLA\\ECE219\\Project1\\Problem11Pipleline.py:192\u001b[0m, in \u001b[0;36mpipeline\u001b[1;34m(df, columns, glove_embedding_dims, normalize, optimizer_func, **kwargs)\u001b[0m\n\u001b[0;32m    178\u001b[0m \u001b[39mdef\u001b[39;00m \u001b[39mpipeline\u001b[39m(df:pd\u001b[39m.\u001b[39mDataFrame,columns\u001b[39m=\u001b[39m[\u001b[39m'\u001b[39m\u001b[39mfull_text\u001b[39m\u001b[39m'\u001b[39m,\u001b[39m\"\u001b[39m\u001b[39msummary\u001b[39m\u001b[39m\"\u001b[39m,\u001b[39m\"\u001b[39m\u001b[39mkeywords\u001b[39m\u001b[39m\"\u001b[39m],glove_embedding_dims\u001b[39m=\u001b[39m\u001b[39m300\u001b[39m,normalize\u001b[39m=\u001b[39m\u001b[39m\"\u001b[39m\u001b[39ml2\u001b[39m\u001b[39m\"\u001b[39m,optimizer_func\u001b[39m=\u001b[39mfind_optimal_bisection,\n\u001b[0;32m    179\u001b[0m     \u001b[39m*\u001b[39m\u001b[39m*\u001b[39mkwargs)\u001b[39m-\u001b[39m\u001b[39m>\u001b[39m\u001b[39mtuple\u001b[39m:\n\u001b[0;32m    180\u001b[0m \u001b[39m    \u001b[39m\u001b[39m\"\"\"The pipeline function to train the model\u001b[39;00m\n\u001b[0;32m    181\u001b[0m \n\u001b[0;32m    182\u001b[0m \u001b[39m    Args:\u001b[39;00m\n\u001b[1;32m   (...)\u001b[0m\n\u001b[0;32m    190\u001b[0m \u001b[39m        tuple: the best weights, the best models, the best score, and the embeddings as a list and unsumed\u001b[39;00m\n\u001b[0;32m    191\u001b[0m \u001b[39m    \"\"\"\u001b[39;00m\n\u001b[1;32m--> 192\u001b[0m     embeddings_dict\u001b[39m=\u001b[39mcreate_embedding_dict(glove_embedding_dims)\n\u001b[0;32m    193\u001b[0m     \u001b[39mprint\u001b[39m(\u001b[39m\"\u001b[39m\u001b[39mEmbeddings dict created\u001b[39m\u001b[39m\"\u001b[39m)\n\u001b[0;32m    194\u001b[0m     embeddings\u001b[39m=\u001b[39mcreate_embeddings(embeddings_dict,df,columns\u001b[39m=\u001b[39mcolumns,embedding_dims\u001b[39m=\u001b[39mglove_embedding_dims,normalize\u001b[39m=\u001b[39mnormalize)\n",
      "File \u001b[1;32mc:\\Users\\Lawrence\\Desktop\\UCLA\\ECE219\\Project1\\Problem11Pipleline.py:25\u001b[0m, in \u001b[0;36mcreate_embedding_dict\u001b[1;34m(glove_dim)\u001b[0m\n\u001b[0;32m     23\u001b[0m \u001b[39mwith\u001b[39;00m \u001b[39mopen\u001b[39m(\u001b[39mf\u001b[39m\u001b[39m\"\u001b[39m\u001b[39mglove/glove.6B.\u001b[39m\u001b[39m{\u001b[39;00mglove_dim\u001b[39m}\u001b[39;00m\u001b[39md.txt\u001b[39m\u001b[39m\"\u001b[39m, \u001b[39m'\u001b[39m\u001b[39mrb\u001b[39m\u001b[39m'\u001b[39m) \u001b[39mas\u001b[39;00m f: \u001b[39m# if 'r' fails with unicode error, please use 'rb',→\u001b[39;00m\n\u001b[0;32m     24\u001b[0m     \u001b[39mfor\u001b[39;00m line \u001b[39min\u001b[39;00m f:\n\u001b[1;32m---> 25\u001b[0m         values \u001b[39m=\u001b[39m line\u001b[39m.\u001b[39;49msplit()\n\u001b[0;32m     26\u001b[0m         word \u001b[39m=\u001b[39m values[\u001b[39m0\u001b[39m]\n\u001b[0;32m     27\u001b[0m         vector \u001b[39m=\u001b[39m np\u001b[39m.\u001b[39masarray(values[\u001b[39m1\u001b[39m:], \u001b[39m\"\u001b[39m\u001b[39mfloat32\u001b[39m\u001b[39m\"\u001b[39m)\n",
      "\u001b[1;31mKeyboardInterrupt\u001b[0m: "
     ]
    }
   ],
   "source": [
    "stochastic_test_accuracy,stochastic_models,stochastic_weights,embeddings=pipeline(df,normalize=\"mean\",optimizer_func=stochastic_find_optimal,\n",
    "    optimizer_kwargs=dict(particles=10,dimensions=3,bounds=[-1,1],drift_rate=0.3,lr=1,noise_rate=0.2,beta=0.9),\n",
    "    epochs=50)"
   ]
  },
  {
   "attachments": {},
   "cell_type": "markdown",
   "metadata": {},
   "source": [
    "## try with the Bisection Optimizing method"
   ]
  },
  {
   "cell_type": "code",
   "execution_count": null,
   "metadata": {},
   "outputs": [
    {
     "name": "stdout",
     "output_type": "stream",
     "text": [
      "Embeddings dict created\n",
      "Embeddings created\n",
      "Finding optimal weights\n",
      "Optimal weights found: [-0.560546875, -0.904296875, -0.677734375]\n",
      "val score: 0.9619047619047618\n",
      "test score: 0.9682539682539683\n"
     ]
    }
   ],
   "source": [
    "bisection_test_accuracy,bisection_models,bisection_weights,embeddings=pipeline(df,normalize=\"mean\")\n"
   ]
  },
  {
   "attachments": {},
   "cell_type": "markdown",
   "metadata": {},
   "source": [
    "## Draw the Confusion Matrices"
   ]
  },
  {
   "cell_type": "code",
   "execution_count": null,
   "metadata": {},
   "outputs": [],
   "source": [
    "def draw_confusion_matrix(Y_pred,Y_true,fn,title):\n",
    "    conf_matrix=sklearn.metrics.confusion_matrix(Y_pred,Y_true)\n",
    "    fig, ax = plt.subplots(figsize=(7.5, 7.5))\n",
    "    ax.matshow(conf_matrix, cmap=plt.cm.Blues, alpha=0.7)\n",
    "    for i in range(conf_matrix.shape[0]):\n",
    "        for j in range(conf_matrix.shape[1]):\n",
    "            ax.text(x=j, y=i,s=conf_matrix[i, j], va='center', ha='center', size='xx-large')\n",
    "    \n",
    "    plt.xlabel('Predictions', fontsize=18)\n",
    "    plt.ylabel('Actuals', fontsize=18)\n",
    "    plt.title(title, fontsize=18)\n",
    "    plt.savefig(fn)"
   ]
  },
  {
   "attachments": {},
   "cell_type": "markdown",
   "metadata": {},
   "source": [
    "### Draw the Confusion Matrix for the hyperparameters found by the Bisection Optimizing method"
   ]
  },
  {
   "cell_type": "code",
   "execution_count": null,
   "metadata": {},
   "outputs": [],
   "source": [
    "aggregated_embeddings=combined_embeddings(embeddings,weights=bisection_weights)\n",
    "Y=(df['root_label']=='sports').to_numpy()\n",
    "\n",
    "_,X_test,_,y_test=sklearn.model_selection.train_test_split(aggregated_embeddings,Y,test_size=0.2,random_state=42)\n"
   ]
  },
  {
   "cell_type": "code",
   "execution_count": null,
   "metadata": {},
   "outputs": [],
   "source": [
    "bisection_preds=np.zeros(y_test.shape)\n",
    "for model in bisection_models:\n",
    "    bisection_preds+=model.predict(X_test)\n",
    "bisection_preds/=len(bisection_models)\n",
    "bisection_preds=(bisection_preds>0.5).astype(int)"
   ]
  },
  {
   "cell_type": "code",
   "execution_count": 9,
   "metadata": {},
   "outputs": [
    {
     "data": {
      "image/png": "[encoded data removed]",
      "text/plain": [
       "<Figure size 750x750 with 1 Axes>"
      ]
     },
     "metadata": {},
     "output_type": "display_data"
    }
   ],
   "source": [
    "draw_confusion_matrix(bisection_preds,y_test,'bisection_confusion_matrix.png',\n",
    "    'Bisection Confusion Matrix')"
   ]
  },
  {
   "attachments": {},
   "cell_type": "markdown",
   "metadata": {},
   "source": [
    "### Draw the Confusion Matrix for the hyperparameters found by the Stochastic Optimizer"
   ]
  },
  {
   "cell_type": "code",
   "execution_count": 10,
   "metadata": {},
   "outputs": [],
   "source": [
    "aggregated_embeddings=combined_embeddings(embeddings,weights=stochastic_weights)\n",
    "Y=(df['root_label']=='sports').to_numpy()\n",
    "\n",
    "_,X_test,_,y_test=sklearn.model_selection.train_test_split(aggregated_embeddings,Y,test_size=0.2,random_state=42)"
   ]
  },
  {
   "cell_type": "code",
   "execution_count": 11,
   "metadata": {},
   "outputs": [],
   "source": [
    "stochastic_preds=np.zeros(y_test.shape)\n",
    "for model in stochastic_models:\n",
    "    stochastic_preds+=model.predict(X_test)\n",
    "stochastic_preds/=len(stochastic_models)\n",
    "stochastic_preds=(stochastic_preds>0.5).astype(int)"
   ]
  },
  {
   "cell_type": "code",
   "execution_count": 12,
   "metadata": {},
   "outputs": [
    {
     "data": {
      "image/png": "[encoded data removed]",
      "text/plain": [
       "<Figure size 750x750 with 1 Axes>"
      ]
     },
     "metadata": {},
     "output_type": "display_data"
    }
   ],
   "source": [
    "draw_confusion_matrix(stochastic_preds,y_test,'stochastic_confusion_matrix.png',\n",
    "    'consensus-based global optimization Confusion Matrix')"
   ]
  },
  {
   "cell_type": "code",
   "execution_count": null,
   "metadata": {},
   "outputs": [],
   "source": []
  }
 ],
 "metadata": {
  "kernelspec": {
   "display_name": "base",
   "language": "python",
   "name": "python3"
  },
  "language_info": {
   "codemirror_mode": {
    "name": "ipython",
    "version": 3
   },
   "file_extension": ".py",
   "mimetype": "text/x-python",
   "name": "python",
   "nbconvert_exporter": "python",
   "pygments_lexer": "ipython3",
   "version": "3.10.8 | packaged by conda-forge | (main, Nov 24 2022, 14:07:00) [MSC v.1916 64 bit (AMD64)]"
  },
  "orig_nbformat": 4,
  "vscode": {
   "interpreter": {
    "hash": "06e9e82baed3fbd9f362a17da5396aa756ffaaa58a603f5f817eedc8fb9b1e55"
   }
  }
 },
 "nbformat": 4,
 "nbformat_minor": 2
}
